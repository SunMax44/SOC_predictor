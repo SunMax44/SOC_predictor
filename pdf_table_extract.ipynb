{
 "cells": [
  {
   "cell_type": "code",
   "execution_count": null,
   "id": "a645f3db-c3b6-46e4-8225-796e9aa7bece",
   "metadata": {},
   "outputs": [],
   "source": [
    "import pdfplumber\n",
    "import pandas as pd\n",
    "\n",
    "# Define the path to the PDF file\n",
    "pdf_path = \"https://www.boden.sachsen.de/download/boden/FISBODEN_DF_SR.pdf\"\n",
    "\n",
    "# Define the bounding box for the table area on the page\n",
    "# Format: (x0, top_y, x1, bottom_y)\n",
    "# You may need to adjust these values based on the position of the table\n",
    "table_bbox = (50, 150, 500, 400)  # Example coordinates, adjust as needed\n",
    "\n",
    "# Load the PDF\n",
    "with pdfplumber.open(pdf_path) as pdf:\n",
    "    # Select the page containing the table\n",
    "    page = pdf.pages[0]  # Change this if the table is on a different page\n",
    "\n",
    "    # Extract table within the specified bounding box\n",
    "    table = page.within_bbox(table_bbox).extract_table()\n",
    "\n",
    "# Convert the table to a DataFrame, assuming the first row is the header\n",
    "df = pd.DataFrame(table[1:], columns=table[0])  # Skip first row if it's not headers\n",
    "\n",
    "# Save to CSV\n",
    "df.to_csv(\"output.csv\", index=False)\n"
   ]
  }
 ],
 "metadata": {
  "kernelspec": {
   "display_name": "Python 3 (ipykernel)",
   "language": "python",
   "name": "python3"
  },
  "language_info": {
   "codemirror_mode": {
    "name": "ipython",
    "version": 3
   },
   "file_extension": ".py",
   "mimetype": "text/x-python",
   "name": "python",
   "nbconvert_exporter": "python",
   "pygments_lexer": "ipython3",
   "version": "3.12.4"
  }
 },
 "nbformat": 4,
 "nbformat_minor": 5
}
